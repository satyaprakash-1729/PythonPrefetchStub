{
  "nbformat": 4,
  "nbformat_minor": 0,
  "metadata": {
    "colab": {
      "name": "BERTPrefetcher.ipynb",
      "provenance": []
    },
    "kernelspec": {
      "name": "python3",
      "display_name": "Python 3"
    },
    "accelerator": "TPU"
  },
  "cells": [
    {
      "cell_type": "code",
      "metadata": {
        "id": "bByTJFgKjTwM",
        "colab_type": "code",
        "outputId": "2b17c7e4-7699-4ba2-e8fd-e516f01cf4b5",
        "colab": {
          "base_uri": "https://localhost:8080/",
          "height": 34
        }
      },
      "source": [
        "from google.colab import drive\n",
        "drive.mount('/content/drive')"
      ],
      "execution_count": 42,
      "outputs": [
        {
          "output_type": "stream",
          "text": [
            "Drive already mounted at /content/drive; to attempt to forcibly remount, call drive.mount(\"/content/drive\", force_remount=True).\n"
          ],
          "name": "stdout"
        }
      ]
    },
    {
      "cell_type": "code",
      "metadata": {
        "id": "5ot6fKDCFszs",
        "colab_type": "code",
        "colab": {
          "base_uri": "https://localhost:8080/",
          "height": 168
        },
        "outputId": "8bf56992-b0ea-4c52-cfab-fb34975c8153"
      },
      "source": [
        "!pip install keras-self-attention"
      ],
      "execution_count": 43,
      "outputs": [
        {
          "output_type": "stream",
          "text": [
            "Requirement already satisfied: keras-self-attention in /usr/local/lib/python3.6/dist-packages (0.42.0)\n",
            "Requirement already satisfied: numpy in /usr/local/lib/python3.6/dist-packages (from keras-self-attention) (1.18.4)\n",
            "Requirement already satisfied: Keras in /usr/local/lib/python3.6/dist-packages (from keras-self-attention) (2.3.1)\n",
            "Requirement already satisfied: h5py in /usr/local/lib/python3.6/dist-packages (from Keras->keras-self-attention) (2.10.0)\n",
            "Requirement already satisfied: pyyaml in /usr/local/lib/python3.6/dist-packages (from Keras->keras-self-attention) (3.13)\n",
            "Requirement already satisfied: keras-applications>=1.0.6 in /usr/local/lib/python3.6/dist-packages (from Keras->keras-self-attention) (1.0.8)\n",
            "Requirement already satisfied: six>=1.9.0 in /usr/local/lib/python3.6/dist-packages (from Keras->keras-self-attention) (1.12.0)\n",
            "Requirement already satisfied: scipy>=0.14 in /usr/local/lib/python3.6/dist-packages (from Keras->keras-self-attention) (1.4.1)\n",
            "Requirement already satisfied: keras-preprocessing>=1.0.5 in /usr/local/lib/python3.6/dist-packages (from Keras->keras-self-attention) (1.1.2)\n"
          ],
          "name": "stdout"
        }
      ]
    },
    {
      "cell_type": "code",
      "metadata": {
        "id": "tfTUxsHRFrFu",
        "colab_type": "code",
        "colab": {}
      },
      "source": [
        "import keras\n",
        "from keras_self_attention import SeqSelfAttention"
      ],
      "execution_count": 0,
      "outputs": []
    },
    {
      "cell_type": "code",
      "metadata": {
        "id": "bumPKVU-jbuS",
        "colab_type": "code",
        "colab": {}
      },
      "source": [
        "import pandas as pd\n",
        "import numpy as np\n",
        "import matplotlib.pyplot as plt\n",
        "import tensorflow as tf\n",
        "from tensorflow.keras.preprocessing.sequence import pad_sequences\n",
        "from nltk import ngrams\n",
        "from sklearn.preprocessing import MinMaxScaler\n",
        "from datetime import datetime\n",
        "import tensorflow.keras.backend as K\n",
        "from keras.utils import to_categorical\n",
        "from collections import Counter\n",
        "import json\n",
        "\n",
        "\n",
        "ROOT_DIR = \"/content/drive/My Drive/\"\n",
        "# logdir = \"logs/scalars/\" + datetime.now().strftime(\"%Y%m%d-%H%M%S\")\n",
        "# tensorboard_callback = tf.keras.callbacks.TensorBoard(log_dir=logdir)\n",
        "\n",
        "def get_memory_addr_line(line):\n",
        "\taddr = 0\n",
        "\trw = \"\"\n",
        "\tip = 0\n",
        "\ttokens = line.split()\n",
        "\tif len(tokens)==3:\n",
        "\t\ttry:\n",
        "\t\t\taddr = int(tokens[2], 16)\n",
        "\t\t\trw = tokens[1]\n",
        "\t\t\tip = int(tokens[0].strip(\":\"), 16)\n",
        "\t\texcept:\n",
        "\t\t\tprint(\"Error parsing...\")\n",
        "\t\t\treturn 0, \"\", 0\n",
        "\treturn addr, rw, ip\n",
        "\n",
        "\n",
        "def parse_data(FINAL_DATA_FILE = \"data_processed.csv\", final_data = {\"delta\": [], \"rw\": [], \"ip\": [], \"addr\": []}):\n",
        "\twith open(ROOT_DIR + \"pinatrace_micro1.out\", \"r\") as data_file:\n",
        "\t\tlast_addr = 0\n",
        "\t\tlines = data_file.readlines()\n",
        "\t\tfor line in lines:\n",
        "\t\t\taddr, rw, ip = get_memory_addr_line(line)\n",
        "\t\t\tif addr!=0 and rw == 'R':\n",
        "\t\t\t\tfinal_data[\"delta\"].append(addr - last_addr)\n",
        "\t\t\t\tfinal_data[\"rw\"].append(rw)\n",
        "\t\t\t\tfinal_data[\"ip\"].append(ip)\n",
        "\t\t\t\tfinal_data[\"addr\"].append(addr)\n",
        "\t\t\t\tlast_addr = addr\n",
        "\n",
        "\tdf = pd.DataFrame(final_data)\n",
        "\tdf.to_csv(ROOT_DIR + FINAL_DATA_FILE, index=False, sep='\\t')\n",
        "\n",
        "from sklearn.cluster import KMeans\n",
        "\n",
        "def get_and_analyze_data(DATA_FILE=\"data_processed.csv\", start_perc=0.1, max_cnt=500, plot=False):\n",
        "\tdata = pd.read_csv(ROOT_DIR + DATA_FILE, sep='\\t')\n",
        "\tstart_pos = int(data.shape[0] * (start_perc))\n",
        "\tdata1 = data[start_pos:]\n",
        "\tprint(\"Unique PCs: \", data[\"ip\"].nunique())\n",
        "\tprint(\"Unique Deltas: \", data[\"delta\"].nunique())\n",
        "\n",
        "\tif plot:\n",
        "\t\tstart_pos = int(data.shape[0] * (start_perc))\n",
        "\t\ty = data[\"delta\"].astype(float).values[start_pos:start_pos+max_cnt]\n",
        "\t\tyaddr = data[\"addr\"].astype(float).values[start_pos:start_pos+max_cnt]\n",
        "\t\tx = np.array([i for i in range(len(y))])\n",
        "\n",
        "\t\tyaddr = yaddr.reshape(-1, 1)\n",
        "\t\tkmeans = KMeans(n_clusters=2, random_state=0).fit(yaddr)\n",
        "\t\tyaddr = yaddr.reshape(-1)\n",
        "\n",
        "\t\tfirst = yaddr[kmeans.labels_==0]\n",
        "\t\tsecond = yaddr[kmeans.labels_==1]\n",
        "\n",
        "\t\tfirstx = x[kmeans.labels_==0]\n",
        "\t\tsecondx = x[kmeans.labels_==1]\n",
        "\n",
        "\t\tplt.figure(1)\n",
        "\t\tplt.title(\"Address over time\")\n",
        "\t\tplt.xlabel(\"Index\")\n",
        "\t\tplt.ylabel(\"Address\")\n",
        "\t\tplt.plot(firstx, first, 'r.')\n",
        "\t\tplt.plot(secondx, second, 'b.')\n",
        "\t\tplt.show()\n",
        "\n",
        "\t\tplt.figure(2)\n",
        "\t\tplt.title(\"Delta over time\")\n",
        "\t\tplt.xlabel(\"Index\")\n",
        "\t\tplt.ylabel(\"Delta\")\n",
        "\t\tplt.plot(x, y, 'k.')\n",
        "\t\tplt.show()\n",
        "\n",
        "\treturn data1\n",
        "\n",
        "\n",
        "def create_dataset(data, maxlen=10, data_cnt=50000, num_classes=3000):\n",
        "\n",
        "\tscaler = MinMaxScaler((0, 1))\n",
        "\n",
        "\tdeltas = data[\"delta\"].astype(float).values[:data_cnt*2]\n",
        "\tips = data[\"ip\"].astype(float).values[:data_cnt*2]\n",
        "\taddrs = data[\"addr\"].astype(float).values[:data_cnt*2]\n",
        "\n",
        "\tdel_freq = Counter(deltas)\n",
        "\tmax10000 = del_freq.most_common(num_classes)\n",
        "\tdel_list = {}\n",
        "\ttotal_cnt = 0.\n",
        "\tinv_del_list = {}\n",
        "\tfor idx, delta in enumerate(max10000):\n",
        "\t\tdel_list[delta[0]] = idx\n",
        "\t\tinv_del_list[idx] = delta[0]\n",
        "\t\ttotal_cnt += delta[1]\n",
        "\twith open(ROOT_DIR + 'delta_idx_map.json', 'w') as f:\n",
        "\t\tjson.dump(inv_del_list, f)\n",
        "\tprint(\"Proportion of data in top {}: {}\".format(num_classes, total_cnt / len(deltas)))\n",
        "\n",
        "\tprint(\">>>> IP: \", min(ips), max(ips))\n",
        "\tips = ips.reshape(-1, 1)\n",
        "\tips = scaler.fit_transform(ips)\n",
        "\tips = ips.reshape(-1)\n",
        "\n",
        "\taddrs = addrs.reshape(-1, 1)\n",
        "\tkmeans = KMeans(n_clusters=2, random_state=0).fit(addrs)\n",
        "\taddrs = addrs.reshape(-1)\n",
        "\t# print(\"Cluster Centers: {}\".format(kmeans.cluster_centers_))\n",
        "\tcluster_ids = kmeans.labels_[:]\n",
        "\n",
        "\tfirstclass = addrs[cluster_ids==0]\n",
        "\tsecondclass = addrs[cluster_ids==1]\n",
        "\n",
        "\tprint(\">>>> Addr1: \", min(firstclass), max(firstclass))\n",
        "\tprint(\">>>> Addr2: \", min(secondclass), max(secondclass))\n",
        "\n",
        "\tfirstclass = firstclass.reshape(-1, 1)\n",
        "\tsecondclass = secondclass.reshape(-1, 1)\n",
        "\n",
        "\tfirstclass = scaler.fit_transform(firstclass)\n",
        "\tsecondclass = scaler.fit_transform(secondclass)\n",
        "\n",
        "\tfirstclass = firstclass.reshape(-1)\n",
        "\tsecondclass = secondclass.reshape(-1)\n",
        "\n",
        "\taddrs[cluster_ids==0] = firstclass\n",
        "\taddrs[cluster_ids==1] = secondclass\n",
        "\n",
        "\tng1 = ngrams(ips, maxlen+1)\n",
        "\tng2 = ngrams(cluster_ids, maxlen+1)\n",
        "\tng3 = ngrams(addrs, maxlen+1)\n",
        "\tng4 = ngrams(deltas, maxlen+1)\n",
        "\n",
        "\tng1 = [ngg for ngg in ng1]\n",
        "\tng2 = [ngg for ngg in ng2]\n",
        "\tng3 = [ngg for ngg in ng3]\n",
        "\tng4 = [ngg for ngg in ng4]\n",
        "\tinds = np.random.choice([i for i in range(len(ng1))], data_cnt, replace=False)\n",
        "\t\n",
        "\tng1 = np.array(ng1)[inds]\n",
        "\tng2 = np.array(ng2)[inds]\n",
        "\tng3 = np.array(ng3)[inds]\n",
        "\tng4 = np.array(ng4)[inds]\n",
        "\n",
        "\tX = []\n",
        "\ty = []\n",
        "\tfor indx, _ in enumerate(ng1):\n",
        "\t\tif ng4[indx][-1] in del_list:\n",
        "\t\t\tX.append(list(zip(ng1[indx][:-1], ng2[indx][:-1], ng3[indx][:-1])))\n",
        "\t\t\ty.append(del_list[ng4[indx][-1]])\n",
        "\n",
        "\ty = to_categorical(y, num_classes=num_classes)\n",
        "\treturn np.array(X).reshape(-1, maxlen, 3), np.array(y)\n"
      ],
      "execution_count": 0,
      "outputs": []
    },
    {
      "cell_type": "code",
      "metadata": {
        "id": "6rhgiaqZtgOO",
        "colab_type": "code",
        "outputId": "aaf6f89c-0fd9-49b0-bbb9-60396b4cf075",
        "colab": {
          "base_uri": "https://localhost:8080/",
          "height": 606
        }
      },
      "source": [
        "parse_data()\n",
        "data = get_and_analyze_data(start_perc=0.003, plot=True)"
      ],
      "execution_count": 35,
      "outputs": [
        {
          "output_type": "stream",
          "text": [
            "Unique PCs:  1924\n",
            "Unique Deltas:  204922\n"
          ],
          "name": "stdout"
        },
        {
          "output_type": "display_data",
          "data": {
            "image/png": "[encoded data removed]",
            "text/plain": [
              "<Figure size 432x288 with 1 Axes>"
            ]
          },
          "metadata": {
            "tags": [],
            "needs_background": "light"
          }
        },
        {
          "output_type": "display_data",
          "data": {
            "image/png": "[encoded data removed]",
            "text/plain": [
              "<Figure size 432x288 with 1 Axes>"
            ]
          },
          "metadata": {
            "tags": [],
            "needs_background": "light"
          }
        }
      ]
    },
    {
      "cell_type": "code",
      "metadata": {
        "id": "_FBwLqCQjzfY",
        "colab_type": "code",
        "outputId": "ce3a8834-c2bf-4c5b-fd07-e338ed319fe3",
        "colab": {
          "base_uri": "https://localhost:8080/",
          "height": 722
        }
      },
      "source": [
        "import tensorflow as tf\n",
        "import os\n",
        "resolver = tf.distribute.cluster_resolver.TPUClusterResolver(tpu='grpc://' + os.environ['COLAB_TPU_ADDR'])\n",
        "tf.config.experimental_connect_to_cluster(resolver)\n",
        "tf.tpu.experimental.initialize_tpu_system(resolver)\n",
        "strategy = tf.distribute.experimental.TPUStrategy(resolver)"
      ],
      "execution_count": 36,
      "outputs": [
        {
          "output_type": "stream",
          "text": [
            "WARNING:tensorflow:TPU system grpc://10.117.136.18:8470 has already been initialized. Reinitializing the TPU can cause previously created variables on TPU to be lost.\n"
          ],
          "name": "stdout"
        },
        {
          "output_type": "stream",
          "text": [
            "WARNING:tensorflow:TPU system grpc://10.117.136.18:8470 has already been initialized. Reinitializing the TPU can cause previously created variables on TPU to be lost.\n"
          ],
          "name": "stderr"
        },
        {
          "output_type": "stream",
          "text": [
            "INFO:tensorflow:Initializing the TPU system: grpc://10.117.136.18:8470\n"
          ],
          "name": "stdout"
        },
        {
          "output_type": "stream",
          "text": [
            "INFO:tensorflow:Initializing the TPU system: grpc://10.117.136.18:8470\n"
          ],
          "name": "stderr"
        },
        {
          "output_type": "stream",
          "text": [
            "INFO:tensorflow:Clearing out eager caches\n"
          ],
          "name": "stdout"
        },
        {
          "output_type": "stream",
          "text": [
            "INFO:tensorflow:Clearing out eager caches\n"
          ],
          "name": "stderr"
        },
        {
          "output_type": "stream",
          "text": [
            "INFO:tensorflow:Finished initializing TPU system.\n"
          ],
          "name": "stdout"
        },
        {
          "output_type": "stream",
          "text": [
            "INFO:tensorflow:Finished initializing TPU system.\n"
          ],
          "name": "stderr"
        },
        {
          "output_type": "stream",
          "text": [
            "INFO:tensorflow:Found TPU system:\n"
          ],
          "name": "stdout"
        },
        {
          "output_type": "stream",
          "text": [
            "INFO:tensorflow:Found TPU system:\n"
          ],
          "name": "stderr"
        },
        {
          "output_type": "stream",
          "text": [
            "INFO:tensorflow:*** Num TPU Cores: 8\n"
          ],
          "name": "stdout"
        },
        {
          "output_type": "stream",
          "text": [
            "INFO:tensorflow:*** Num TPU Cores: 8\n"
          ],
          "name": "stderr"
        },
        {
          "output_type": "stream",
          "text": [
            "INFO:tensorflow:*** Num TPU Workers: 1\n"
          ],
          "name": "stdout"
        },
        {
          "output_type": "stream",
          "text": [
            "INFO:tensorflow:*** Num TPU Workers: 1\n"
          ],
          "name": "stderr"
        },
        {
          "output_type": "stream",
          "text": [
            "INFO:tensorflow:*** Num TPU Cores Per Worker: 8\n"
          ],
          "name": "stdout"
        },
        {
          "output_type": "stream",
          "text": [
            "INFO:tensorflow:*** Num TPU Cores Per Worker: 8\n"
          ],
          "name": "stderr"
        },
        {
          "output_type": "stream",
          "text": [
            "INFO:tensorflow:*** Available Device: _DeviceAttributes(/job:localhost/replica:0/task:0/device:CPU:0, CPU, 0, 0)\n"
          ],
          "name": "stdout"
        },
        {
          "output_type": "stream",
          "text": [
            "INFO:tensorflow:*** Available Device: _DeviceAttributes(/job:localhost/replica:0/task:0/device:CPU:0, CPU, 0, 0)\n"
          ],
          "name": "stderr"
        },
        {
          "output_type": "stream",
          "text": [
            "INFO:tensorflow:*** Available Device: _DeviceAttributes(/job:localhost/replica:0/task:0/device:XLA_CPU:0, XLA_CPU, 0, 0)\n"
          ],
          "name": "stdout"
        },
        {
          "output_type": "stream",
          "text": [
            "INFO:tensorflow:*** Available Device: _DeviceAttributes(/job:localhost/replica:0/task:0/device:XLA_CPU:0, XLA_CPU, 0, 0)\n"
          ],
          "name": "stderr"
        },
        {
          "output_type": "stream",
          "text": [
            "INFO:tensorflow:*** Available Device: _DeviceAttributes(/job:worker/replica:0/task:0/device:CPU:0, CPU, 0, 0)\n"
          ],
          "name": "stdout"
        },
        {
          "output_type": "stream",
          "text": [
            "INFO:tensorflow:*** Available Device: _DeviceAttributes(/job:worker/replica:0/task:0/device:CPU:0, CPU, 0, 0)\n"
          ],
          "name": "stderr"
        },
        {
          "output_type": "stream",
          "text": [
            "INFO:tensorflow:*** Available Device: _DeviceAttributes(/job:worker/replica:0/task:0/device:TPU:0, TPU, 0, 0)\n"
          ],
          "name": "stdout"
        },
        {
          "output_type": "stream",
          "text": [
            "INFO:tensorflow:*** Available Device: _DeviceAttributes(/job:worker/replica:0/task:0/device:TPU:0, TPU, 0, 0)\n"
          ],
          "name": "stderr"
        },
        {
          "output_type": "stream",
          "text": [
            "INFO:tensorflow:*** Available Device: _DeviceAttributes(/job:worker/replica:0/task:0/device:TPU:1, TPU, 0, 0)\n"
          ],
          "name": "stdout"
        },
        {
          "output_type": "stream",
          "text": [
            "INFO:tensorflow:*** Available Device: _DeviceAttributes(/job:worker/replica:0/task:0/device:TPU:1, TPU, 0, 0)\n"
          ],
          "name": "stderr"
        },
        {
          "output_type": "stream",
          "text": [
            "INFO:tensorflow:*** Available Device: _DeviceAttributes(/job:worker/replica:0/task:0/device:TPU:2, TPU, 0, 0)\n"
          ],
          "name": "stdout"
        },
        {
          "output_type": "stream",
          "text": [
            "INFO:tensorflow:*** Available Device: _DeviceAttributes(/job:worker/replica:0/task:0/device:TPU:2, TPU, 0, 0)\n"
          ],
          "name": "stderr"
        },
        {
          "output_type": "stream",
          "text": [
            "INFO:tensorflow:*** Available Device: _DeviceAttributes(/job:worker/replica:0/task:0/device:TPU:3, TPU, 0, 0)\n"
          ],
          "name": "stdout"
        },
        {
          "output_type": "stream",
          "text": [
            "INFO:tensorflow:*** Available Device: _DeviceAttributes(/job:worker/replica:0/task:0/device:TPU:3, TPU, 0, 0)\n"
          ],
          "name": "stderr"
        },
        {
          "output_type": "stream",
          "text": [
            "INFO:tensorflow:*** Available Device: _DeviceAttributes(/job:worker/replica:0/task:0/device:TPU:4, TPU, 0, 0)\n"
          ],
          "name": "stdout"
        },
        {
          "output_type": "stream",
          "text": [
            "INFO:tensorflow:*** Available Device: _DeviceAttributes(/job:worker/replica:0/task:0/device:TPU:4, TPU, 0, 0)\n"
          ],
          "name": "stderr"
        },
        {
          "output_type": "stream",
          "text": [
            "INFO:tensorflow:*** Available Device: _DeviceAttributes(/job:worker/replica:0/task:0/device:TPU:5, TPU, 0, 0)\n"
          ],
          "name": "stdout"
        },
        {
          "output_type": "stream",
          "text": [
            "INFO:tensorflow:*** Available Device: _DeviceAttributes(/job:worker/replica:0/task:0/device:TPU:5, TPU, 0, 0)\n"
          ],
          "name": "stderr"
        },
        {
          "output_type": "stream",
          "text": [
            "INFO:tensorflow:*** Available Device: _DeviceAttributes(/job:worker/replica:0/task:0/device:TPU:6, TPU, 0, 0)\n"
          ],
          "name": "stdout"
        },
        {
          "output_type": "stream",
          "text": [
            "INFO:tensorflow:*** Available Device: _DeviceAttributes(/job:worker/replica:0/task:0/device:TPU:6, TPU, 0, 0)\n"
          ],
          "name": "stderr"
        },
        {
          "output_type": "stream",
          "text": [
            "INFO:tensorflow:*** Available Device: _DeviceAttributes(/job:worker/replica:0/task:0/device:TPU:7, TPU, 0, 0)\n"
          ],
          "name": "stdout"
        },
        {
          "output_type": "stream",
          "text": [
            "INFO:tensorflow:*** Available Device: _DeviceAttributes(/job:worker/replica:0/task:0/device:TPU:7, TPU, 0, 0)\n"
          ],
          "name": "stderr"
        },
        {
          "output_type": "stream",
          "text": [
            "INFO:tensorflow:*** Available Device: _DeviceAttributes(/job:worker/replica:0/task:0/device:TPU_SYSTEM:0, TPU_SYSTEM, 0, 0)\n"
          ],
          "name": "stdout"
        },
        {
          "output_type": "stream",
          "text": [
            "INFO:tensorflow:*** Available Device: _DeviceAttributes(/job:worker/replica:0/task:0/device:TPU_SYSTEM:0, TPU_SYSTEM, 0, 0)\n"
          ],
          "name": "stderr"
        },
        {
          "output_type": "stream",
          "text": [
            "INFO:tensorflow:*** Available Device: _DeviceAttributes(/job:worker/replica:0/task:0/device:XLA_CPU:0, XLA_CPU, 0, 0)\n"
          ],
          "name": "stdout"
        },
        {
          "output_type": "stream",
          "text": [
            "INFO:tensorflow:*** Available Device: _DeviceAttributes(/job:worker/replica:0/task:0/device:XLA_CPU:0, XLA_CPU, 0, 0)\n"
          ],
          "name": "stderr"
        }
      ]
    },
    {
      "cell_type": "code",
      "metadata": {
        "id": "J1cVszEAk2Wu",
        "colab_type": "code",
        "outputId": "781446a8-ea68-4f80-dd27-61cd192e1db7",
        "colab": {
          "base_uri": "https://localhost:8080/",
          "height": 1000
        }
      },
      "source": [
        "from sklearn.model_selection import train_test_split\n",
        "import keras\n",
        "\n",
        "class MyCustomCallback(keras.callbacks.Callback):\n",
        "  def __init__(self, test_data, k=10):\n",
        "    self.X_test, self.y_test = test_data\n",
        "    self.k = k\n",
        "\n",
        "  def on_train_batch_end(self, batch, logs=None):\n",
        "    if (batch+1)%200!=0:\n",
        "      return\n",
        "    y_test_pred = self.model.predict(self.X_test)\n",
        "    topk = y_test_pred.argsort()[:, -self.k:]\n",
        "    acc = 0.\n",
        "    for i in range(self.y_test.shape[0]):\n",
        "      if np.argmax(self.y_test[i]) in topk[i]:\n",
        "        acc += 1.\n",
        "    print(\"ACC: \", acc / float(self.y_test.shape[0]))\n",
        "    \n",
        "\n",
        "def get_lstm_model(X_train, y_train, X_test, y_test, rnn_units=32, batch_size=64, maxlen=10, num_labels=3, num_classes=3000, epochs=3, toplot=False):\n",
        "  input_layer1 = keras.layers.Input(shape=(maxlen, 3, ), name='input1')\n",
        "\n",
        "  #LSTM Layer 1 with Dropout\n",
        "  lstm_layer1 = keras.layers.LSTM(rnn_units, return_sequences=True)(input_layer1)\n",
        "  lstm_layer1 = keras.layers.Dropout(0.1)(lstm_layer1)\n",
        "\n",
        "  #LSTM Layer 2 with Dropout\n",
        "  lstm_layer2 = keras.layers.LSTM(rnn_units, return_sequences=True)(lstm_layer1)\n",
        "  lstm_layer2 = keras.layers.Dropout(0.1)(lstm_layer2)\n",
        "\n",
        "  self_attn1 = SeqSelfAttention(\n",
        "    attention_width=5,\n",
        "    attention_activation='sigmoid',\n",
        "    history_only=True,\n",
        "    name='SelfAttention1',\n",
        "    attention_type=SeqSelfAttention.ATTENTION_TYPE_MUL\n",
        "  )(lstm_layer2)\n",
        "\n",
        "  self_attn1 = keras.layers.GlobalMaxPooling1D()(self_attn1)\n",
        "  lstm_out = keras.layers.Lambda(lambda t: t[:,-1])(lstm_layer2)\n",
        "  penultimate = keras.layers.Concatenate()([lstm_out, self_attn1])\n",
        "  #Output Layer\n",
        "  prediction = keras.layers.Dense(num_classes, activation='softmax')(penultimate)\n",
        "\n",
        "  #Model Inputs and outputs\n",
        "  model = keras.models.Model(inputs=input_layer1, outputs=prediction)\n",
        "  #Use Categorical Loss and Accuracy with Adam Optimizer\n",
        "  model.compile(optimizer=keras.optimizers.Adam(lr=0.001), loss='categorical_crossentropy', metrics=['categorical_accuracy'])\n",
        "  print(model.summary())\n",
        "\n",
        "  #Fit the model to the data\n",
        "  history = model.fit(X, y, batch_size=batch_size, epochs=epochs, shuffle=False, callbacks=[MyCustomCallback((X_test, y_test), k=3)])\n",
        "\n",
        "  #Plot the loss curves\n",
        "  if toplot:\n",
        "    plt.plot(history.history['loss'])\n",
        "    plt.title('model loss')\n",
        "    plt.ylabel('loss')\n",
        "    plt.xlabel('epoch')\n",
        "    plt.legend(['train'], loc='upper left')\n",
        "    plt.show()\n",
        "\n",
        "  return model\n",
        "\n",
        "X, y = create_dataset(data, data_cnt=40000, num_classes=5000, maxlen=6)\n",
        "\n",
        "X_train, X_test, y_train, y_test = train_test_split(X, y, test_size=0.1, random_state=1234)\n",
        "\n",
        "print(\"Training X & y: \", X_train.shape, y_train.shape)\n",
        "print(\"Validation X & y: \", X_test.shape, y_test.shape)\n",
        "\n",
        "#Use TPU Strategy\n",
        "with strategy.scope():\n",
        "  model = get_lstm_model(X_train, y_train, X_test, y_test, rnn_units=128, batch_size=64, num_classes=5000, maxlen=6, epochs=30, toplot=True)\n"
      ],
      "execution_count": 41,
      "outputs": [
        {
          "output_type": "stream",
          "text": [
            "Proportion of data in top 5000: 0.72375\n",
            ">>>> IP:  94602865943828.0 140119319091961.0\n",
            ">>>> Addr1:  140118976570040.0 140732090279160.0\n",
            ">>>> Addr2:  94602865942592.0 94602868043752.0\n",
            "Training X & y:  (26091, 6, 3) (26091, 5000)\n",
            "Validation X & y:  (2899, 6, 3) (2899, 5000)\n",
            "Model: \"model_19\"\n",
            "__________________________________________________________________________________________________\n",
            "Layer (type)                    Output Shape         Param #     Connected to                     \n",
            "==================================================================================================\n",
            "input1 (InputLayer)             (None, 6, 3)         0                                            \n",
            "__________________________________________________________________________________________________\n",
            "lstm_43 (LSTM)                  (None, 6, 128)       67584       input1[0][0]                     \n",
            "__________________________________________________________________________________________________\n",
            "dropout_43 (Dropout)            (None, 6, 128)       0           lstm_43[0][0]                    \n",
            "__________________________________________________________________________________________________\n",
            "lstm_44 (LSTM)                  (None, 6, 128)       131584      dropout_43[0][0]                 \n",
            "__________________________________________________________________________________________________\n",
            "dropout_44 (Dropout)            (None, 6, 128)       0           lstm_44[0][0]                    \n",
            "__________________________________________________________________________________________________\n",
            "SelfAttention1 (SeqSelfAttentio (None, 6, 128)       16385       dropout_44[0][0]                 \n",
            "__________________________________________________________________________________________________\n",
            "lambda_13 (Lambda)              (None, 128)          0           dropout_44[0][0]                 \n",
            "__________________________________________________________________________________________________\n",
            "global_max_pooling1d_11 (Global (None, 128)          0           SelfAttention1[0][0]             \n",
            "__________________________________________________________________________________________________\n",
            "concatenate_9 (Concatenate)     (None, 256)          0           lambda_13[0][0]                  \n",
            "                                                                 global_max_pooling1d_11[0][0]    \n",
            "__________________________________________________________________________________________________\n",
            "dense_20 (Dense)                (None, 5000)         1285000     concatenate_9[0][0]              \n",
            "==================================================================================================\n",
            "Total params: 1,500,553\n",
            "Trainable params: 1,500,553\n",
            "Non-trainable params: 0\n",
            "__________________________________________________________________________________________________\n",
            "None\n",
            "Epoch 1/30\n",
            "12800/28990 [============>.................] - ETA: 17s - loss: 3.6439 - categorical_accuracy: 0.4125ACC:  0.6998965160400138\n",
            "25600/28990 [=========================>....] - ETA: 4s - loss: 3.2121 - categorical_accuracy: 0.4370ACC:  0.7109348051052087\n",
            "28990/28990 [==============================] - 36s 1ms/step - loss: 3.1732 - categorical_accuracy: 0.4377\n",
            "Epoch 2/30\n",
            "12800/28990 [============>.................] - ETA: 16s - loss: 2.5347 - categorical_accuracy: 0.4668ACC:  0.7147292169713695\n",
            "25600/28990 [=========================>....] - ETA: 3s - loss: 2.5224 - categorical_accuracy: 0.4686ACC:  0.7133494308382201\n",
            "28990/28990 [==============================] - 34s 1ms/step - loss: 2.5346 - categorical_accuracy: 0.4661\n",
            "Epoch 3/30\n",
            "12800/28990 [============>.................] - ETA: 16s - loss: 2.4135 - categorical_accuracy: 0.4691ACC:  0.7219730941704036\n",
            "25600/28990 [=========================>....] - ETA: 3s - loss: 2.3911 - categorical_accuracy: 0.4707ACC:  0.7268023456364263\n",
            "28990/28990 [==============================] - 34s 1ms/step - loss: 2.4008 - categorical_accuracy: 0.4679\n",
            "Epoch 4/30\n",
            "12800/28990 [============>.................] - ETA: 16s - loss: 2.3058 - categorical_accuracy: 0.4721ACC:  0.7385305277681959\n",
            "25600/28990 [=========================>....] - ETA: 3s - loss: 2.2764 - categorical_accuracy: 0.4748ACC:  0.743704725767506\n",
            "28990/28990 [==============================] - 34s 1ms/step - loss: 2.2827 - categorical_accuracy: 0.4731\n",
            "Epoch 5/30\n",
            "12800/28990 [============>.................] - ETA: 16s - loss: 2.1838 - categorical_accuracy: 0.4815ACC:  0.7581924801655744\n",
            "25600/28990 [=========================>....] - ETA: 3s - loss: 2.1558 - categorical_accuracy: 0.4855ACC:  0.7757847533632287\n",
            "28990/28990 [==============================] - 34s 1ms/step - loss: 2.1607 - categorical_accuracy: 0.4834\n",
            "Epoch 6/30\n",
            "12800/28990 [============>.................] - ETA: 17s - loss: 2.0649 - categorical_accuracy: 0.4918ACC:  0.7719903414970679\n",
            "25600/28990 [=========================>....] - ETA: 3s - loss: 2.0374 - categorical_accuracy: 0.4960ACC:  0.7868230424284236\n",
            "28990/28990 [==============================] - 35s 1ms/step - loss: 2.0417 - categorical_accuracy: 0.4936\n",
            "Epoch 7/30\n",
            "12800/28990 [============>.................] - ETA: 16s - loss: 1.9653 - categorical_accuracy: 0.5047ACC:  0.791307347361159\n",
            "25600/28990 [=========================>....] - ETA: 3s - loss: 1.9356 - categorical_accuracy: 0.5095ACC:  0.7937219730941704\n",
            "28990/28990 [==============================] - 35s 1ms/step - loss: 1.9394 - categorical_accuracy: 0.5068\n",
            "Epoch 8/30\n",
            "12800/28990 [============>.................] - ETA: 16s - loss: 1.8811 - categorical_accuracy: 0.5129ACC:  0.7999310106933425\n",
            "25600/28990 [=========================>....] - ETA: 3s - loss: 1.8518 - categorical_accuracy: 0.5172ACC:  0.7978613314936185\n",
            "28990/28990 [==============================] - 34s 1ms/step - loss: 1.8567 - categorical_accuracy: 0.5138\n",
            "Epoch 9/30\n",
            "12800/28990 [============>.................] - ETA: 16s - loss: 1.8144 - categorical_accuracy: 0.5170ACC:  0.8009658502932046\n",
            "25600/28990 [=========================>....] - ETA: 3s - loss: 1.7864 - categorical_accuracy: 0.5199ACC:  0.8051052086926527\n",
            "28990/28990 [==============================] - 34s 1ms/step - loss: 1.7905 - categorical_accuracy: 0.5168\n",
            "Epoch 10/30\n",
            "12800/28990 [============>.................] - ETA: 16s - loss: 1.7606 - categorical_accuracy: 0.5188ACC:  0.8037254225595033\n",
            "25600/28990 [=========================>....] - ETA: 3s - loss: 1.7306 - categorical_accuracy: 0.5227ACC:  0.8057951017592273\n",
            "28990/28990 [==============================] - 34s 1ms/step - loss: 1.7354 - categorical_accuracy: 0.5199\n",
            "Epoch 11/30\n",
            "12800/28990 [============>.................] - ETA: 16s - loss: 1.7021 - categorical_accuracy: 0.5233ACC:  0.8082097274922387\n",
            "25600/28990 [=========================>....] - ETA: 3s - loss: 1.6796 - categorical_accuracy: 0.5250ACC:  0.8120041393583994\n",
            "28990/28990 [==============================] - 34s 1ms/step - loss: 1.6852 - categorical_accuracy: 0.5217\n",
            "Epoch 12/30\n",
            "12800/28990 [============>.................] - ETA: 16s - loss: 1.6645 - categorical_accuracy: 0.5238ACC:  0.8082097274922387\n",
            "25600/28990 [=========================>....] - ETA: 3s - loss: 1.6422 - categorical_accuracy: 0.5264ACC:  0.8116591928251121\n",
            "28990/28990 [==============================] - 34s 1ms/step - loss: 1.6486 - categorical_accuracy: 0.5232\n",
            "Epoch 13/30\n",
            "12800/28990 [============>.................] - ETA: 16s - loss: 1.6307 - categorical_accuracy: 0.5273ACC:  0.8106243532252501\n",
            "25600/28990 [=========================>....] - ETA: 3s - loss: 1.6122 - categorical_accuracy: 0.5293ACC:  0.8106243532252501\n",
            "28990/28990 [==============================] - 34s 1ms/step - loss: 1.6181 - categorical_accuracy: 0.5260\n",
            "Epoch 14/30\n",
            "12800/28990 [============>.................] - ETA: 16s - loss: 1.6082 - categorical_accuracy: 0.5277ACC:  0.8120041393583994\n",
            "25600/28990 [=========================>....] - ETA: 3s - loss: 1.5886 - categorical_accuracy: 0.5300ACC:  0.8106243532252501\n",
            "28990/28990 [==============================] - 34s 1ms/step - loss: 1.5952 - categorical_accuracy: 0.5267\n",
            "Epoch 15/30\n",
            "12800/28990 [============>.................] - ETA: 17s - loss: 1.5854 - categorical_accuracy: 0.5277ACC:  0.8102794066919627\n",
            "25600/28990 [=========================>....] - ETA: 3s - loss: 1.5667 - categorical_accuracy: 0.5298ACC:  0.8109692997585374\n",
            "28990/28990 [==============================] - 35s 1ms/step - loss: 1.5720 - categorical_accuracy: 0.5270\n",
            "Epoch 16/30\n",
            "12800/28990 [============>.................] - ETA: 16s - loss: 1.5724 - categorical_accuracy: 0.5284ACC:  0.8106243532252501\n",
            "25600/28990 [=========================>....] - ETA: 3s - loss: 1.5564 - categorical_accuracy: 0.5303ACC:  0.8171783373577095\n",
            "28990/28990 [==============================] - 35s 1ms/step - loss: 1.5623 - categorical_accuracy: 0.5272\n",
            "Epoch 17/30\n",
            "12800/28990 [============>.................] - ETA: 16s - loss: 1.5633 - categorical_accuracy: 0.5305ACC:  0.8102794066919627\n",
            "25600/28990 [=========================>....] - ETA: 3s - loss: 1.5465 - categorical_accuracy: 0.5325ACC:  0.8151086581579855\n",
            "28990/28990 [==============================] - 34s 1ms/step - loss: 1.5522 - categorical_accuracy: 0.5296\n",
            "Epoch 18/30\n",
            "12800/28990 [============>.................] - ETA: 16s - loss: 1.5511 - categorical_accuracy: 0.5311ACC:  0.8092445670921007\n",
            "25600/28990 [=========================>....] - ETA: 3s - loss: 1.5345 - categorical_accuracy: 0.5327ACC:  0.8130389789582615\n",
            "28990/28990 [==============================] - 34s 1ms/step - loss: 1.5392 - categorical_accuracy: 0.5300\n",
            "Epoch 19/30\n",
            "12800/28990 [============>.................] - ETA: 16s - loss: 1.5355 - categorical_accuracy: 0.5305ACC:  0.8057951017592273\n",
            "25600/28990 [=========================>....] - ETA: 3s - loss: 1.5218 - categorical_accuracy: 0.5319ACC:  0.8144187650914109\n",
            "28990/28990 [==============================] - 35s 1ms/step - loss: 1.5267 - categorical_accuracy: 0.5292\n",
            "Epoch 20/30\n",
            "12800/28990 [============>.................] - ETA: 16s - loss: 1.5257 - categorical_accuracy: 0.5346ACC:  0.808554674025526\n",
            "25600/28990 [=========================>....] - ETA: 3s - loss: 1.5122 - categorical_accuracy: 0.5346ACC:  0.8126940324249742\n",
            "28990/28990 [==============================] - 34s 1ms/step - loss: 1.5180 - categorical_accuracy: 0.5320\n",
            "Epoch 21/30\n",
            "12800/28990 [============>.................] - ETA: 16s - loss: 1.5145 - categorical_accuracy: 0.5330ACC:  0.8057951017592273\n",
            "25600/28990 [=========================>....] - ETA: 3s - loss: 1.5004 - categorical_accuracy: 0.5343ACC:  0.8164884442911349\n",
            "28990/28990 [==============================] - 35s 1ms/step - loss: 1.5066 - categorical_accuracy: 0.5315\n",
            "Epoch 22/30\n",
            "12800/28990 [============>.................] - ETA: 16s - loss: 1.5078 - categorical_accuracy: 0.5329ACC:  0.8095895136253881\n",
            "25600/28990 [=========================>....] - ETA: 3s - loss: 1.4920 - categorical_accuracy: 0.5360ACC:  0.8147637116246982\n",
            "28990/28990 [==============================] - 34s 1ms/step - loss: 1.4973 - categorical_accuracy: 0.5332\n",
            "Epoch 23/30\n",
            "12800/28990 [============>.................] - ETA: 16s - loss: 1.4969 - categorical_accuracy: 0.5349ACC:  0.8109692997585374\n",
            "25600/28990 [=========================>....] - ETA: 3s - loss: 1.4826 - categorical_accuracy: 0.5364ACC:  0.8151086581579855\n",
            "28990/28990 [==============================] - 34s 1ms/step - loss: 1.4888 - categorical_accuracy: 0.5335\n",
            "Epoch 24/30\n",
            "12800/28990 [============>.................] - ETA: 17s - loss: 1.4905 - categorical_accuracy: 0.5344ACC:  0.8106243532252501\n",
            "25600/28990 [=========================>....] - ETA: 3s - loss: 1.4780 - categorical_accuracy: 0.5359ACC:  0.8120041393583994\n",
            "28990/28990 [==============================] - 35s 1ms/step - loss: 1.4842 - categorical_accuracy: 0.5331\n",
            "Epoch 25/30\n",
            "12800/28990 [============>.................] - ETA: 16s - loss: 1.4835 - categorical_accuracy: 0.5340ACC:  0.806484994825802\n",
            "25600/28990 [=========================>....] - ETA: 3s - loss: 1.4697 - categorical_accuracy: 0.5358ACC:  0.8095895136253881\n",
            "28990/28990 [==============================] - 34s 1ms/step - loss: 1.4756 - categorical_accuracy: 0.5330\n",
            "Epoch 26/30\n",
            "12800/28990 [============>.................] - ETA: 16s - loss: 1.4764 - categorical_accuracy: 0.5333ACC:  0.8071748878923767\n",
            "25600/28990 [=========================>....] - ETA: 3s - loss: 1.4637 - categorical_accuracy: 0.5350ACC:  0.8102794066919627\n",
            "28990/28990 [==============================] - 34s 1ms/step - loss: 1.4691 - categorical_accuracy: 0.5327\n",
            "Epoch 27/30\n",
            "12800/28990 [============>.................] - ETA: 16s - loss: 1.4717 - categorical_accuracy: 0.5355ACC:  0.8057951017592273\n",
            "25600/28990 [=========================>....] - ETA: 3s - loss: 1.4609 - categorical_accuracy: 0.5360ACC:  0.8099344601586754\n",
            "28990/28990 [==============================] - 34s 1ms/step - loss: 1.4672 - categorical_accuracy: 0.5332\n",
            "Epoch 28/30\n",
            "12800/28990 [============>.................] - ETA: 16s - loss: 1.4701 - categorical_accuracy: 0.5341ACC:  0.8099344601586754\n",
            "25600/28990 [=========================>....] - ETA: 3s - loss: 1.4607 - categorical_accuracy: 0.5350ACC:  0.8120041393583994\n",
            "28990/28990 [==============================] - 35s 1ms/step - loss: 1.4675 - categorical_accuracy: 0.5319\n",
            "Epoch 29/30\n",
            "12800/28990 [============>.................] - ETA: 16s - loss: 1.4759 - categorical_accuracy: 0.5330ACC:  0.808554674025526\n",
            "25600/28990 [=========================>....] - ETA: 3s - loss: 1.4621 - categorical_accuracy: 0.5347ACC:  0.8147637116246982\n",
            "28990/28990 [==============================] - 34s 1ms/step - loss: 1.4683 - categorical_accuracy: 0.5320\n",
            "Epoch 30/30\n",
            "12800/28990 [============>.................] - ETA: 16s - loss: 1.4820 - categorical_accuracy: 0.5341ACC:  0.8144187650914109\n",
            "25600/28990 [=========================>....] - ETA: 3s - loss: 1.4679 - categorical_accuracy: 0.5363ACC:  0.8123490858916868\n",
            "28990/28990 [==============================] - 34s 1ms/step - loss: 1.4738 - categorical_accuracy: 0.5333\n"
          ],
          "name": "stdout"
        },
        {
          "output_type": "display_data",
          "data": {
            "image/png": "[encoded data removed]",
            "text/plain": [
              "<Figure size 432x288 with 1 Axes>"
            ]
          },
          "metadata": {
            "tags": [],
            "needs_background": "light"
          }
        }
      ]
    },
    {
      "cell_type": "code",
      "metadata": {
        "id": "HcwFvMvnnoJ4",
        "colab_type": "code",
        "colab": {}
      },
      "source": [
        "with open(ROOT_DIR + 'model_for_cpp_self_attn.json', 'w') as fout:\n",
        "    fout.write(model.to_json())\n",
        "model.save_weights(ROOT_DIR + 'model_for_cpp_self_attn_weights.h5', overwrite=True)"
      ],
      "execution_count": 0,
      "outputs": []
    },
    {
      "cell_type": "code",
      "metadata": {
        "id": "ydKtMw8rXzYi",
        "colab_type": "code",
        "outputId": "069a5839-d3ea-4804-ba7a-dc1e0fc037ee",
        "colab": {
          "base_uri": "https://localhost:8080/",
          "height": 34
        }
      },
      "source": [
        "from typing import List\n",
        "from sklearn.cluster import KMeans\n",
        "\n",
        "\n",
        "def prefetch_predict(lastNPCs: List[int], lastNAddrs: List[int], topk: int) -> int:\n",
        "  def get_cluster_id(center1, center2, point):\n",
        "    if abs(center1-point) < abs(center2-point):\n",
        "      return 0\n",
        "    else:\n",
        "      return 1\n",
        "\n",
        "  idx_to_delta = None\n",
        "  with open(ROOT_DIR + 'delta_idx_map.json') as json_file:\n",
        "    idx_to_delta = json.load(json_file)\n",
        "\n",
        "  N = 5\n",
        "  if len(lastNPCs) != N or len(lastNAddrs) != N:\n",
        "    return -1\n",
        "\n",
        "  f = open(ROOT_DIR + \"model_for_cpp.json\")\n",
        "  model = tf.keras.models.model_from_json(f.read())\n",
        "  f.close()\n",
        "\n",
        "  ip1 = 94602865943828.0\n",
        "  ip2 = 140119319091961.0\n",
        "\n",
        "  addr11 = 140118976570040.0\n",
        "  addr12 = 140732090279160.0\n",
        "\n",
        "  addr21 = 94602865942592.0\n",
        "  addr22 = 94602868043752.0\n",
        "\n",
        "  model.load_weights(ROOT_DIR + \"model_for_cpp_weights.h5\")\n",
        "  model.compile(optimizer=tf.keras.optimizers.Adam(lr=0.001), loss='categorical_crossentropy', metrics=['categorical_accuracy'])\n",
        "  \n",
        "  center1 = 1.40618487e+14\n",
        "  center2 = 9.46028667e+13\n",
        "  ips = np.array(lastNPCs)\n",
        "  ips = [(ip-ip1)/(ip2-ip1) for ip in ips]\n",
        "\n",
        "  addrs = np.array(lastNAddrs)\n",
        "  cluster_ids = [get_cluster_id(center1, center2, addr) for addr in addrs]\n",
        "\n",
        "  for i in range(len(addrs)):\n",
        "    if cluster_ids[i] == 0:\n",
        "      addrs[i] = (addrs[i]-addr11) / (addr12-addr11)\n",
        "    else:\n",
        "      addrs[i] = (addrs[i]-addr21) / (addr22-addr21)\n",
        "\n",
        "  X = np.array([list(xx) for xx in zip(ips, cluster_ids, addrs)])\n",
        "  X = X.reshape(1, N, 3)\n",
        "  y_pred = model.predict(X)\n",
        "  topkidxs = y_pred.argsort()[:, -topk:][0]\n",
        "\n",
        "  return [idx_to_delta[str(idx)] for idx in topkidxs]\n",
        "  \n",
        "\n",
        "print(prefetch_predict([9.46887013e-12, 8.85380658e-12, 9.02966590e-12, 9.18332077e-12, 9.31521527e-12],\n",
        "  [0.99999919, 0.99999919, 0.99999926, 0.99999919, 0.99999919], 10))"
      ],
      "execution_count": 39,
      "outputs": [
        {
          "output_type": "stream",
          "text": [
            "[-46129224239908.0, 4525464.0, 613113481496.0, -612768972886.0, 45516455285275.0, 613113566043.0, -613109020900.0, -613113551484.0, -613113565603.0, 344579372.0]\n"
          ],
          "name": "stdout"
        }
      ]
    }
  ]
}